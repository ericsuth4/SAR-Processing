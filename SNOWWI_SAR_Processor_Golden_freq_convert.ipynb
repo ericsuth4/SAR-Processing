{
 "cells": [
  {
   "cell_type": "markdown",
   "metadata": {},
   "source": [
    "##  First go at a real SAR Processor\n",
    "\n",
    "###  Eric Sutherland\n",
    "### 2/15/2024"
   ]
  },
  {
   "cell_type": "code",
   "execution_count": null,
   "metadata": {},
   "outputs": [],
   "source": [
    "import numpy as np\n",
    "import matplotlib.pyplot as plt\n",
    "from scipy import signal\n",
    "import os\n",
    "from scipy.signal import chirp\n",
    "from scipy.interpolate import interp1d\n",
    "from simplekml import Kml\n",
    "import time\n",
    "import re\n",
    "import pandas as pd\n",
    "\n",
    "import functions as fun\n",
    "import novatel_functions as nov\n",
    "\n",
    "\n",
    "# %matplotlib widget\n",
    "\n",
    "params = {\"ytick.color\" : \"black\",\n",
    "          \"xtick.color\" : \"black\",\n",
    "          \"axes.labelcolor\" : \"black\",\n",
    "          \"axes.edgecolor\" : \"black\",\n",
    "          \"font.family\" : \"serif\",\n",
    "          \"font.serif\" : [\"times new roman\"],\n",
    "          \"figure.dpi\" : 150}\n",
    "plt.rcParams.update(params)\n",
    "\n",
    "%matplotlib inline"
   ]
  },
  {
   "cell_type": "markdown",
   "metadata": {},
   "source": [
    "# Important constants that change with datasets #"
   ]
  },
  {
   "cell_type": "code",
   "execution_count": null,
   "metadata": {},
   "outputs": [],
   "source": [
    "\n",
    "###  Number of files and how much data to import  ###\n",
    "start_file = 640#250 # 600\n",
    "stop_file = 660#270  # 680\n",
    "start_sample = 000\n",
    "stop_sample = 40000\n",
    "\n",
    "num_files = stop_file - start_file\n",
    "# stop_sample = 24000\n",
    "\n",
    "## Platform attitude basics  ##\n",
    "# vp = 72  ## Platform velocity in [m/s]\n",
    "# H = 2000  ## Platform height [m]\n",
    "# theta_ = np.radians(45)  ## estimated look angle\n",
    "# bw_el = np.radians(45)  ##  estimating elevation beamwidth\n",
    "# swath_width = 10000  ## desired swath width in [m]\n",
    "\n",
    "vp = 72  ## Platform velocity in [m/s]\n",
    "H = 1900  ## Platform height [m]\n",
    "theta_ = np.radians(45)  ## estimated look angle\n",
    "bw_el = np.radians(45)  ##  estimating elevation beamwidth\n",
    "swath_width = 10000  ## desired swath width in [m]\n",
    "\n",
    "## Constants  ##\n",
    "c = 3e8\n",
    "num_plots = 25  ## helps to determine how many lines to plot (fewer speeds things up)\n",
    "\n",
    "##  radar parameters  ##\n",
    "f0 = 5.39e9\n",
    "# f0 = 13.64e9\n",
    "prf = 1e3\n",
    "lambda_ = c/f0\n",
    "\n",
    "\n",
    "## Compression parameters  ##\n",
    "fs = 491.52e6*2\n",
    "\n",
    "###  For NH Data  ###\n",
    "# fl = 240e6\n",
    "# fh = 320e6\n",
    "# tp = 5.7e-6\n",
    "\n",
    "###  For CO Data  ###\n",
    "fl = 143e6\n",
    "fh = 223e6\n",
    "tp = 11e-6\n",
    "\n",
    "\n",
    "chirp_direction = 'up'\n",
    "B = fh - fl\n",
    "\n"
   ]
  },
  {
   "cell_type": "code",
   "execution_count": null,
   "metadata": {},
   "outputs": [],
   "source": [
    "directory = r'\\\\seasat\\Projects\\SNOWWI\\SNOWWI_NH\\NH_Flight_December\\20231215T144359'  ####  CBand in NH over airport\n",
    "# directory = r'\\\\seasat\\Projects\\SNOWWI\\SNOWWI_NH\\NH_Flight_December\\20231215T142814'  ### CBand NH december\n",
    "# directory = r'\\\\seasat\\Projects\\SNOWWI\\Colorado_January\\20240205T020242\\chan0'  ####  CBand in Grand Junction\n",
    "# directory = r'\\\\Sentinel\\SNOWWI\\Colorado2024\\March\\Radar_data\\from_disk_F\\save_data_nvme1n1\\20240327T120951\\chan0'  ### CBand CO March\n",
    "# directory = r'\\\\Sentinel\\SNOWWI\\Colorado2024\\March\\Radar_data\\from_disk_F\\save_data_nvme1n1\\20240327T124951\\chan0'  ### CBand CO March\n",
    "directory = r'\\\\Sentinel\\SNOWWI\\Colorado2024\\March\\Radar_data\\from_disk_F\\save_data_nvme1n1\\20240327T123855\\chan2'  ### CBand CO March\n",
    "# directory = r'\\\\Sentinel\\SNOWWI\\Colorado2024\\March\\Radar_data\\from_disk_F\\save_data_nvme1n1\\20240327T125534\\chan2'\n",
    "\n",
    "\n",
    "# directory = r'\\\\seasat\\Projects\\SNOWWI\\Colorado_January\\20240204T193523\\chan0'  ####  Ku Low in Grand Junction\n",
    "\n",
    "# directory = r'\\\\Sentinel\\SNOWWI\\Colorado2024\\January\\Radar_data\\save_data_nvme0\\20240205T031232\\chan0'  ####  CBand in Grand Mesa\n",
    "\n",
    "\n",
    "filelist = fun.list_files(directory)\n",
    "\n",
    "rawdata = fun.load_data(filelist, start_file, stop_file, start_sample=start_sample, stop_sample=stop_sample)\n",
    "\n"
   ]
  },
  {
   "cell_type": "code",
   "execution_count": null,
   "metadata": {},
   "outputs": [],
   "source": [
    "\n",
    "\n",
    "# novatel_directory = r'\\\\Sentinel\\SNOWWI\\Colorado2024\\March\\Novatel'\n",
    "# novatel_filename = r'gm_20240327.txt'\n",
    "\n",
    "# header = nov.get_header(filelist[start_file])\n",
    "# unix_start_time = nov.timestamp_from_header(header) + 7200 + 120\n",
    "\n",
    "# gps_to_unix = 315964800\n",
    "\n",
    "# gps_start_time = unix_start_time - gps_to_unix\n",
    "# gps_stop_time = gps_start_time + num_files/2\n",
    "\n",
    "# novatel = nov.readNovatel(novatel_directory, novatel_filename, gps_start_time, gps_stop_time)\n"
   ]
  },
  {
   "cell_type": "code",
   "execution_count": null,
   "metadata": {},
   "outputs": [],
   "source": [
    "# novatel_directory = r'\\\\Sentinel\\SNOWWI\\Colorado2024\\March\\Novatel'\n",
    "# novatel_filename = r'gm_20240327.txt'\n",
    "\n",
    "# flightline = nov.readNovatel(novatel_directory, novatel_filename, gps_start_time, gps_stop_time)\n",
    "# base_time, base_dt = nov.get_time(flightline)\n",
    "\n",
    "# yaw, pitch, roll = nov.get_yaw_pitch_roll(flightline)\n",
    "# yaw, pitch, roll, time = nov.interpolate_attitude(yaw, pitch, roll, base_time, base_dt, rawdata.shape[0])\n",
    "\n",
    "# x, y, z = nov.get_xyz(flightline)\n",
    "# xfit, yfit, zfit = nov.fit_position(x, y, z)\n",
    "\n",
    "# xfit, yfit, zfit, _ = nov.interpolate_xyz(xfit, yfit, zfit, base_time, base_dt, rawdata.shape[0])\n",
    "\n",
    "# dt = 1/prf\n"
   ]
  },
  {
   "cell_type": "code",
   "execution_count": null,
   "metadata": {},
   "outputs": [],
   "source": [
    "# dx = np.diff(xfit)\n",
    "# dy = np.diff(yfit)\n",
    "# dz = np.diff(zfit)\n",
    "\n",
    "# ds = np.sqrt(dx**2 + dy**2 + dz**2)\n",
    "# s = np.cumsum(ds)\n",
    "# vp = ds/dt\n",
    "\n",
    "# vp_mean = np.mean(vp)"
   ]
  },
  {
   "cell_type": "code",
   "execution_count": null,
   "metadata": {},
   "outputs": [],
   "source": [
    "###  Plotting raw radar data  ###\n",
    "%matplotlib widget\n",
    "\n",
    "n = int(rawdata.shape[0]/num_plots)\n",
    "\n",
    "plt.figure(figsize=(16, 4))\n",
    "\n",
    "for i in rawdata[0::n]:\n",
    "    plt.plot(i)\n",
    "\n",
    "\n",
    "\n",
    "plt.title(f'{num_plots} Raw Pulses - Sanity Check')\n",
    "plt.xlabel('Range Samples')\n",
    "plt.ylabel('Magnitude Samples')\n",
    "\n",
    "plt.xlim(0, rawdata.shape[1])\n",
    "\n",
    "plt.grid()\n",
    "plt.show()"
   ]
  },
  {
   "cell_type": "code",
   "execution_count": null,
   "metadata": {},
   "outputs": [],
   "source": [
    "# flatdata = rawdata.flatten()[19200:-(64000-19200)]\n",
    "# reshaped = flatdata.reshape(-1, 64000)"
   ]
  },
  {
   "cell_type": "code",
   "execution_count": null,
   "metadata": {},
   "outputs": [],
   "source": [
    "# rawdata = reshaped[:, 0:40000]\n",
    "# del(reshaped)"
   ]
  },
  {
   "cell_type": "code",
   "execution_count": null,
   "metadata": {},
   "outputs": [],
   "source": [
    "rawdata -= rawdata.mean(axis=1, ).reshape(-1, 1)"
   ]
  },
  {
   "cell_type": "code",
   "execution_count": null,
   "metadata": {},
   "outputs": [],
   "source": [
    "###  Compressing and plotting compression waveforms  ###\n",
    "\n",
    "rawdata = fun.bandpass(rawdata, fl-10e6, fh+10e6, fs, 3)\n",
    "compressed = fun.compress(rawdata, tp, fs, fl, fh, chirp_direction, plot=False)\n",
    "\n",
    "print(rawdata.dtype)\n",
    "del(rawdata)"
   ]
  },
  {
   "cell_type": "code",
   "execution_count": null,
   "metadata": {},
   "outputs": [],
   "source": [
    "### Truncate swath to be just returns  ###\n",
    "\n",
    "# swath, Rmin, Rmax = truncate_swath(compressed, swath_width, H, tp, fs, theta_, bw_el)\n",
    "# swath = compressed[:, start_sample+30000:]\n",
    "swath = compressed[:, start_sample+21500:]\n",
    "# swath = compressed[:, 19300:]\n",
    "del(compressed)\n",
    "\n"
   ]
  },
  {
   "cell_type": "code",
   "execution_count": null,
   "metadata": {},
   "outputs": [],
   "source": [
    "plt.figure()\n",
    "\n",
    "plt.imshow(20*np.log10(abs(fun.multilook(swath, 2, 6))), vmin=70, vmax=100, origin='upper', cmap='gray', interpolation='bilinear', aspect='equal')#, extent=[Rmin/1000, Rmax/1000, azR/1000, 0])\n",
    "# plt.imshow(np.angle(focused_rd[6000:7350, 7100:7500]), origin='lower', cmap='hsv', interpolation='None')\n",
    "# plt.imshow(np.angle(range_corrected_rd[6000:7350, 7100:7500]), origin='lower', cmap='hsv', interpolation='None')\n",
    "plt.title('Range Compressed')\n",
    "plt.xlabel('Range Samples')\n",
    "plt.ylabel('Azimuth Samples')\n",
    "plt.colorbar(label='[dB - Uncal]')\n",
    "\n",
    "# image_file = f'CBand_NH_Test2.png'\n",
    "# cwd = os.getcwd()\n",
    "\n",
    "# plt.savefig(os.path.join(cwd, image_file), dpi=1000, bbox_inches='tight', pad_inches=0.25, transparent=False)\n",
    "\n",
    "\n",
    "\n",
    "plt.show()"
   ]
  },
  {
   "cell_type": "code",
   "execution_count": null,
   "metadata": {},
   "outputs": [],
   "source": []
  },
  {
   "cell_type": "code",
   "execution_count": null,
   "metadata": {},
   "outputs": [],
   "source": [
    "# Rmin = flightline['H-Ell'].mean() - (10000/3.25)\n",
    "Rmin = H\n",
    "Rmax = Rmin + ((c/fs)*swath.shape[1])/2\n",
    "\n",
    "print(Rmin)\n",
    "print(Rmax)"
   ]
  },
  {
   "cell_type": "code",
   "execution_count": null,
   "metadata": {},
   "outputs": [],
   "source": [
    "# print(swath.shape)\n",
    "# print(s.shape)"
   ]
  },
  {
   "cell_type": "markdown",
   "metadata": {},
   "source": [
    "###  Resample each range line in azimuth  ###"
   ]
  },
  {
   "cell_type": "code",
   "execution_count": null,
   "metadata": {},
   "outputs": [],
   "source": [
    "# alongtrack = np.linspace(s[0], s[-1], len(s))\n",
    "\n",
    "# for i in range(swath.shape[1]):\n",
    "#     interpolator = interp1d(s, swath[:, i], kind='cubic', fill_value='extrapolate')\n",
    "#     swath[:, i] = interpolator(alongtrack)"
   ]
  },
  {
   "cell_type": "code",
   "execution_count": null,
   "metadata": {},
   "outputs": [],
   "source": []
  },
  {
   "cell_type": "code",
   "execution_count": null,
   "metadata": {},
   "outputs": [],
   "source": [
    "x = [1, 2, 3, 4]\n",
    "\n",
    "print(x[:3])"
   ]
  },
  {
   "cell_type": "code",
   "execution_count": null,
   "metadata": {},
   "outputs": [],
   "source": [
    "###  Plotting image of compressed data\n",
    "\n",
    "# %matplotlib inline\n",
    "\n",
    "# n = int(swath.shape[0]/num_plots)\n",
    "\n",
    "\n",
    "\n",
    "# fig, ax = plt.subplots(figsize=[16, 4], nrows=1, ncols=2)\n",
    "\n",
    "# im = ax[0].imshow(20*np.log10(abs(swath)), vmin=90, vmax=120, origin='lower', interpolation='None', cmap='gray', aspect='equal')\n",
    "# ax[0].set_title('Compressed Data')\n",
    "# ax[0].set_xlabel('Range Samples')\n",
    "# ax[0].set_ylabel('Azimuth Samples')\n",
    "# fig.colorbar(im, ax=ax[0], label='[dB]')\n",
    "\n",
    "# for i in swath[::n]:\n",
    "#     ax[1].plot(20*np.log10(abs(i)), alpha=0.3)\n",
    "\n",
    "# ax[1].set_title('Compressed Range Lines')\n",
    "# ax[1].set_xlabel('Range Samples')\n",
    "# ax[1].set_ylabel('[dB]')\n",
    "# ax[1].set_xlim(0, swath.shape[1])\n",
    "# ax[1].grid()\n",
    "\n",
    "# plt.show()"
   ]
  },
  {
   "cell_type": "code",
   "execution_count": null,
   "metadata": {},
   "outputs": [],
   "source": [
    "# %matplotlib widget\n",
    "\n",
    "# plt.figure()\n",
    "\n",
    "# plt.imshow(20*np.log10(abs(swath)), vmin=90, vmax=120, origin='upper', interpolation='None', cmap='gray', aspect='equal')\n",
    "\n",
    "# image_file = f'compressed1.png'\n",
    "# cwd = os.getcwd()\n",
    "\n",
    "# plt.savefig(os.path.join(cwd, image_file), dpi=1000, bbox_inches='tight', pad_inches=0, transparent=True)\n",
    "\n",
    "# plt.colorbar()\n",
    "# plt.show()"
   ]
  },
  {
   "cell_type": "markdown",
   "metadata": {},
   "source": [
    "## Azimuth FFT  ##"
   ]
  },
  {
   "cell_type": "code",
   "execution_count": null,
   "metadata": {},
   "outputs": [],
   "source": [
    "###  Finding Azimuth FFT  ###\n",
    "\n",
    "# swath = multilook(swath, 4, 1)\n",
    "\n",
    "az_samples = swath.shape[0]\n",
    "T_az = 1/prf\n",
    "az_tmin = 0\n",
    "az_tmax = T_az*az_samples\n",
    "\n",
    "t_az = np.linspace(az_tmin, az_tmax, az_samples)\n",
    "az_fft_data = np.fft.fftshift(np.fft.fft(swath, axis=0), axes=0).astype(np.complex64)\n",
    "# az_fft_data = np.fft.fft(swath, axis=0).astype(np.complex64)\n",
    "\n",
    "\n",
    "\n",
    "az_freq = np.linspace(-prf/2, prf/2, az_samples)\n",
    "freq_khz = az_freq/1e3\n",
    "print(az_fft_data.dtype)\n",
    "# del(swath)\n"
   ]
  },
  {
   "cell_type": "code",
   "execution_count": null,
   "metadata": {},
   "outputs": [],
   "source": [
    "# ###  Plotting some Azimuth FFT Stuffs  ###\n",
    "\n",
    "vmin = 130\n",
    "vmax = 150\n",
    "\n",
    "# vmin = 140\n",
    "# vmax = 160\n",
    "\n",
    "n = int(az_fft_data.shape[1]/num_plots)\n",
    "\n",
    "fig, ax = plt.subplots(figsize=[8, 4], nrows=1, ncols=2)\n",
    "\n",
    "im = ax[0].imshow(20*np.log10(abs(az_fft_data)), vmin=vmin, vmax=vmax, origin='lower', interpolation='None', extent=[0, az_fft_data.shape[1], -prf/2, prf/2], aspect='auto')\n",
    "ax[0].set_title('Azimuth Frequency Spectrogram')\n",
    "ax[0].set_xlabel('Range Samples')\n",
    "ax[0].set_ylabel('Azimuth Frequency [Hz]')\n",
    "fig.colorbar(im, ax=ax[0], label='[dB]')\n",
    "\n",
    "for i in az_fft_data.T[::n]:\n",
    "    ax[1].plot(az_freq, 20*np.log10(fun.rolling_avg(abs(i), 100)), alpha=0.3)\n",
    "\n",
    "ax[1].set_title('Azimuth Frequency of Different Range Lines')\n",
    "ax[1].set_xlabel('Azimuth Frequency [Hz]')\n",
    "ax[1].set_ylabel('[dB]')\n",
    "ax[1].set_xlim(-prf/2, prf/2)\n",
    "ax[1].grid()\n",
    "\n",
    "plt.show()"
   ]
  },
  {
   "cell_type": "markdown",
   "metadata": {},
   "source": [
    "###  Applying Range Cell Migration Corrections  ###"
   ]
  },
  {
   "cell_type": "code",
   "execution_count": null,
   "metadata": {},
   "outputs": [],
   "source": [
    "range_corrected_rd = fun.rcmc(az_fft_data, lambda_, prf, fs, Rmin, Rmax, vp).astype(np.complex64)\n",
    "print(range_corrected_rd.dtype)\n",
    "del(az_fft_data)"
   ]
  },
  {
   "cell_type": "markdown",
   "metadata": {},
   "source": [
    "## Smoothing Doppler, finding Doppler Centroids  ##"
   ]
  },
  {
   "cell_type": "code",
   "execution_count": null,
   "metadata": {},
   "outputs": [],
   "source": [
    "# def fit_doppler(data, prf, fs, B, order, snr=True):\n",
    "\n",
    "\n",
    "#     smoothed_doppler, range_corrected_rd = fun.smooth_doppler(data, fs, B)  ##  Running some rolling averages over azimuth doppler centroids\n",
    "#     az_freq = np.linspace(-prf/2, prf/2, data.shape[0])\n",
    "\n",
    "#     doppler_centroid_idx = np.argmax(smoothed_doppler, axis=0)\n",
    "\n",
    "#     if snr == True:\n",
    "#         means = np.mean(abs(smoothed_doppler), axis=0)\n",
    "#         maxs = np.max(abs(smoothed_doppler), axis=0)\n",
    "\n",
    "#         badsnr = np.where(maxs<(1.3*means))[0]  ## Finding indeces where snr < ...dB\n",
    "\n",
    "#         doppler_centroid_idx[badsnr[0]:] = doppler_centroid_idx[badsnr[0] - 1]  ## replacing indeces with bad snr to the last index with a good snr\n",
    "    \n",
    "#     doppler_centroids = az_freq[doppler_centroid_idx]\n",
    "\n",
    "#     range_samples = np.linspace(0, doppler_centroids.shape[0]-1, doppler_centroids.shape[0])\n",
    "\n",
    "#     coeff = np.polyfit(range_samples, doppler_centroids, 1)\n",
    "#     doppler_fit = coeff[0]*range_samples + coeff[1]  # **3 + coeff[1]*range_samples**2 + coeff[2]*range_samples + coeff[3]\n",
    "\n",
    "#     return doppler_fit, range_corrected_rd, doppler_centroids\n",
    "\n",
    "\n"
   ]
  },
  {
   "cell_type": "code",
   "execution_count": null,
   "metadata": {},
   "outputs": [],
   "source": [
    "# doppler_fit, test, doppler_centroids = fun.fit_doppler(range_corrected_rd, prf, fs, B, 3, False)\n",
    "doppler_fit, doppler_centroids = fun.fit_doppler(range_corrected_rd, prf, fs, B, 1, False)\n",
    "# doppler_fit = fun.load_doppler_fit(r'C:\\Users\\epsutherland\\Desktop\\ForThesis\\GM_CReflectors\\GM_CornerReflector_Doppler.dat')\n",
    "\n",
    "\n",
    "\n",
    "print(doppler_fit.shape)\n",
    "# print(doppler_centroids.dtype)"
   ]
  },
  {
   "cell_type": "code",
   "execution_count": null,
   "metadata": {},
   "outputs": [],
   "source": [
    "# Rmin = H\n",
    "# Rmax = Rmin + ((c/fs)*range_corrected_rd.shape[1])/2"
   ]
  },
  {
   "cell_type": "code",
   "execution_count": null,
   "metadata": {},
   "outputs": [],
   "source": [
    "plt.figure()\n",
    "\n",
    "plt.plot(doppler_fit)\n",
    "# plt.plot(doppler_centroids)\n",
    "\n",
    "plt.show()"
   ]
  },
  {
   "cell_type": "code",
   "execution_count": null,
   "metadata": {},
   "outputs": [],
   "source": [
    "###  Plotting some Azimuth FFT Stuffs  ###\n",
    "\n",
    "# vmin = 110\n",
    "# vmax = 130\n",
    "\n",
    "# # vmin = 140\n",
    "# # vmax = 160\n",
    "\n",
    "# n = int(range_corrected_rd.shape[1]/num_plots)\n",
    "\n",
    "# plt.figure()\n",
    "\n",
    "# im = plt.imshow(20*np.log10(abs(range_corrected_rd)), vmin=vmin, vmax=vmax, origin='lower', interpolation='None', extent=[0, range_corrected_rd.shape[1], -prf/2, prf/2], aspect='auto')\n",
    "# plt.plot(doppler_fit, color='r', linewidth=0.8)\n",
    "# plt.plot(doppler_centroids, color='k', linewidth=0.8)\n",
    "# plt.title('Range Corrected Azimuth Frequency Spectrogram')\n",
    "# plt.xlabel('Range Samples')\n",
    "# plt.ylabel('Azimuth Frequency [Hz]')\n",
    "# plt.colorbar(im, label='[dB]')\n",
    "\n",
    "# # for i in range_corrected_rd.T[::n]:\n",
    "# #     ax[1].plot(20*np.log10(abs(i)), alpha=0.3)\n",
    "\n",
    "# # ax[1].set_title('Azimuth Frequency of Different Range Lines')\n",
    "# # ax[1].set_xlabel('Azimuth Frequency [Hz]')\n",
    "# # ax[1].set_ylabel('[dB]')\n",
    "# # ax[1].set_xlim(-prf/2, prf/2)\n",
    "# # ax[1].grid()\n",
    "\n",
    "# plt.show()"
   ]
  },
  {
   "cell_type": "code",
   "execution_count": null,
   "metadata": {},
   "outputs": [],
   "source": [
    "# smoothed_doppler, range_corrected_rd = smooth_doppler(range_corrected_rd, fs, B)  ##  Running some rolling averages over azimuth doppler centroids\n",
    "\n",
    "# doppler_centroid_idx = np.argmax(smoothed_doppler, axis=0)\n",
    "# doppler_centroids = az_freq[doppler_centroid_idx]\n",
    "\n",
    "# range_samples = np.linspace(0, doppler_centroids.shape[0]-1, doppler_centroids.shape[0])\n",
    "\n",
    "# coeff = np.polyfit(range_samples, doppler_centroids, 3)\n",
    "# doppler_fit = coeff[0]*range_samples**3 + coeff[1]*range_samples**2 + coeff[2]*range_samples + coeff[3]\n",
    "\n",
    "# doppler_fit = coeff[0]*range_samples**5 + coeff[1]*range_samples**4 + coeff[2]*range_samples**3 + coeff[3]*range_samples**2 + coeff[4]*range_samples + coeff[5]\n",
    "# doppler_fit = coeff[0]*range_samples**2 + coeff[1]*range_samples + coeff[2]\n",
    "\n",
    "\n"
   ]
  },
  {
   "cell_type": "code",
   "execution_count": null,
   "metadata": {},
   "outputs": [],
   "source": [
    "# def rcmc(data, lambda_, fs_az, fs_rng, Rmin, Rmax, vp):\n",
    "\n",
    "#     az_samp = data.shape[0]\n",
    "#     rng_samp = data.shape[1]\n",
    "\n",
    "#     y = np.arange(az_samp)\n",
    "#     x = np.arange(rng_samp)\n",
    "\n",
    "#     fn = np.linspace(-fs_az/2, fs_az/2, az_samp)\n",
    "\n",
    "#     # R0 = (Rmin + Rmax) / 2\n",
    "\n",
    "#     R = np.linspace(Rmin, Rmax, rng_samp).reshape((-1, rng_samp))\n",
    "#     fn = (np.linspace(-fs_az/2, fs_az/2, az_samp)**2).reshape((az_samp, -1))  ## squared because of range migration equation\n",
    "#     Rfn = fn.dot(R)\n",
    "#     dR = (lambda_**2 * Rfn) / (8*vp**2)\n",
    "\n",
    "#     Rshift = (2*dR*fs_rng) / 3e8\n",
    "#     # Rshift = x - np.array(shift_samples)[:, np.newaxis]\n",
    "\n",
    "#     new_matrix = np.zeros_like(data)\n",
    "\n",
    "#     # print(Rshift)\n",
    "#     # return Rshift\n",
    "#     xin = np.arange(rng_samp)\n",
    "    \n",
    "#     for i in range(az_samp):\n",
    "#         x = xin - Rshift[i, :]\n",
    "#         interp_func = interp1d(x, data[i], kind='cubic', bounds_error=False, fill_value=1)\n",
    "#         new_matrix[i] = interp_func(np.arange(rng_samp))\n",
    "    \n",
    "#     return new_matrix\n"
   ]
  },
  {
   "cell_type": "code",
   "execution_count": null,
   "metadata": {},
   "outputs": [],
   "source": [
    "# rd_corrections = rcmc(az_fft_data, lambda_, prf, Rmin, Rmax, vp)  ##  this matrix is the phase corrections that need to be applied\n",
    "# range_corrected_rd = az_fft_data*rd_corrections\n",
    "\n",
    "\n"
   ]
  },
  {
   "cell_type": "code",
   "execution_count": null,
   "metadata": {},
   "outputs": [],
   "source": [
    "# %matplotlib widget\n",
    "\n",
    "plt.figure(figsize=(9, 4))\n",
    "plt.imshow(20*np.log10(abs(range_corrected_rd)), vmin=130, vmax=150, origin='lower', cmap='viridis', interpolation='None')\n",
    "plt.colorbar()\n",
    "plt.show()"
   ]
  },
  {
   "cell_type": "code",
   "execution_count": null,
   "metadata": {},
   "outputs": [],
   "source": [
    "###  Plotting some Azimuth FFT Stuffs  ###\n",
    "\n",
    "# vmin = 130\n",
    "# vmax = 150\n",
    "\n",
    "# # vmin = 140\n",
    "# # vmax = 160\n",
    "\n",
    "# n = int(az_fft_data.shape[1]/num_plots)\n",
    "\n",
    "# fig, ax = plt.subplots(figsize=[16, 4], nrows=1, ncols=2)\n",
    "\n",
    "# im = ax[0].imshow(20*np.log10(abs(range_corrected_rd)), vmin=vmin, vmax=vmax, origin='lower', interpolation='None', extent=[0, az_fft_data.shape[1], -prf/2, prf/2], aspect='auto')\n",
    "# ax[0].plot(doppler_fit, color='k')\n",
    "# ax[0].set_title('Azimuth Frequency Spectrogram')\n",
    "# ax[0].set_xlabel('Range Samples')\n",
    "# ax[0].set_ylabel('Azimuth Frequency [Hz]')\n",
    "# ax[0].grid()\n",
    "# # fig.colorbar(im, ax=ax[0], label='[dB]')\n",
    "\n",
    "# im = ax[1].imshow(20*np.log10(abs(smoothed_doppler)), vmin=vmin, vmax=vmax, origin='lower', interpolation='None', extent=[0, az_fft_data.shape[1], -prf/2, prf/2], aspect='auto')\n",
    "\n",
    "\n",
    "# ax[1].set_title('Azimuth Frequency of Different Range Lines')\n",
    "# ax[1].set_xlabel('Azimuth Frequency [Hz]')\n",
    "# ax[1].set_ylabel('[dB]')\n",
    "# # ax[1].set_xlim(-prf/2, prf/2)\n",
    "# ax[1].grid()\n",
    "\n",
    "# plt.show()"
   ]
  },
  {
   "cell_type": "code",
   "execution_count": null,
   "metadata": {},
   "outputs": [],
   "source": [
    "# range_corrected_rd = range_corrected_rd[1:, :]\n",
    "del(swath)"
   ]
  },
  {
   "cell_type": "code",
   "execution_count": null,
   "metadata": {},
   "outputs": [],
   "source": [
    "R = np.linspace(Rmin, Rmax, range_corrected_rd.shape[1])\n",
    "\n",
    "dR = (Rmax - Rmin)/range_corrected_rd.shape[1]\n",
    "azR = dR*range_corrected_rd.shape[0]\n",
    "# az = np.linspace(0, dR*range_corrected_rd.shape[0], range_corrected_rd.shape[0])\n",
    "\n",
    "\n",
    "# Rmax = Rmin + ((c/fs)*range_corrected_rd.shape[1])/2\n",
    "\n",
    "\n",
    "\n",
    "# az_matched_filter = azimuth_compress(az_fft_data, lambda_, prf, prf/2, doppler_fit, Rmin, Rmax, vp)\n",
    "# doppler_zero = np.zeros_like(doppler_fit)\n",
    "az_BW = 200\n",
    "\n",
    "\n",
    "\n",
    "\n",
    "az_matched_filter = fun.azimuth_compress(range_corrected_rd, lambda_, prf, az_BW, doppler_fit, Rmin, Rmax, vp).astype(np.complex64)\n",
    "\n",
    "\n"
   ]
  },
  {
   "cell_type": "code",
   "execution_count": null,
   "metadata": {},
   "outputs": [],
   "source": [
    "\n",
    "print(Rmax)\n",
    "print(azR)\n",
    "print(vp)"
   ]
  },
  {
   "cell_type": "code",
   "execution_count": null,
   "metadata": {},
   "outputs": [],
   "source": [
    "plt.figure()\n",
    "\n",
    "plt.imshow(np.angle(az_matched_filter), interpolation='none', vmin=-np.pi, vmax=np.pi, cmap='hsv')\n",
    "\n",
    "plt.show()"
   ]
  },
  {
   "cell_type": "code",
   "execution_count": null,
   "metadata": {},
   "outputs": [],
   "source": [
    "# az_matched_filter = azimuth_compress(range_corrected_rd, lambda_, prf, doppler_centroids, Rmin, Rmax, vp, 5)\n",
    "\n",
    "# focused_rd = np.fft.fftshift(np.fft.fft(zero_doppler, axis=0), axes=0)*az_matched_filter\n",
    "focused_rd = (range_corrected_rd*az_matched_filter).astype(np.complex64)\n",
    "# down = fun.frequency_convert(focused_rd, doppler_fit, prf, 0)\n",
    "\n",
    "\n",
    "# del(az_matched_filter)\n",
    "# del(range_corrected_rd)\n",
    "# focused_rd = az_fft_data*az_matched_filter\n",
    "print(focused_rd.dtype)"
   ]
  },
  {
   "cell_type": "code",
   "execution_count": null,
   "metadata": {},
   "outputs": [],
   "source": [
    "# def frequency_convert_az(data, fLO, fs):\n",
    "#     #####\n",
    "#     # Requires complex data\n",
    "#     # fLO is freq of LO to mix with\n",
    "#     # fs is sample frequency of data\n",
    "#     # direction is direction of conversion - 'up' or 'down'\n",
    "#     #####\n",
    "\n",
    "#     samps = data.shape[0]\n",
    "#     tmin = 0\n",
    "#     tmax = samps/fs\n",
    "#     n = len(fLO)\n",
    "\n",
    "#     # fLO = fLO.reshape((n, -1))\n",
    "#     fLO = fLO.reshape((-1, n))\n",
    "\n",
    "#     t = np.linspace(tmin, tmax, samps).reshape((samps, -1))  ## Make time array\n",
    "#     ft = t.dot(fLO)\n",
    "\n",
    "#     lo = np.exp(-1j*2*np.pi*ft)\n",
    "#     data = data*lo\n",
    "\n",
    "#     return data"
   ]
  },
  {
   "cell_type": "code",
   "execution_count": null,
   "metadata": {},
   "outputs": [],
   "source": [
    "# down = frequency_convert_az(focused_rd, doppler_fit, prf)\n"
   ]
  },
  {
   "cell_type": "code",
   "execution_count": null,
   "metadata": {},
   "outputs": [],
   "source": [
    "# plt.figure()\n",
    "\n",
    "# plt.imshow(np.angle(az_matched_filter), cmap='hsv', interpolation='None')\n",
    "\n",
    "# plt.colorbar()\n",
    "# plt.show()"
   ]
  },
  {
   "cell_type": "code",
   "execution_count": null,
   "metadata": {},
   "outputs": [],
   "source": [
    "# del(range_corrected_rd)\n",
    "# del(az_matched_filter)\n",
    "focused = np.fft.ifft(focused_rd, axis=0).astype(np.complex64)\n",
    "# focused = fun.frequency_convert(focused, doppler_fit, prf, 0)\n",
    "# focused = np.fft.ifft(range_corrected_rd, axis=0)\n",
    "\n",
    "# del(focused_rd)\n",
    "# focused = rolling_avg(focused, 62, 0)\n",
    "print(focused.dtype)\n"
   ]
  },
  {
   "cell_type": "code",
   "execution_count": null,
   "metadata": {},
   "outputs": [],
   "source": [
    "plt.figure()\n",
    "\n",
    "plt.imshow(abs(np.fft.fft(focused, axis=0)))\n",
    "\n",
    "plt.show()"
   ]
  },
  {
   "cell_type": "code",
   "execution_count": null,
   "metadata": {},
   "outputs": [],
   "source": [
    "focused_multilook = fun.multilook(abs(focused), 1, 4)\n"
   ]
  },
  {
   "cell_type": "code",
   "execution_count": null,
   "metadata": {},
   "outputs": [],
   "source": [
    "azR = azR/4"
   ]
  },
  {
   "cell_type": "code",
   "execution_count": null,
   "metadata": {},
   "outputs": [],
   "source": [
    "%matplotlib widget\n",
    "plt.figure()\n",
    "\n",
    "plt.imshow(20*np.log10(abs(focused)), vmin=70, vmax=100, origin='upper', cmap='gray', interpolation='none')#, aspect='equal', extent=[Rmin/1000, Rmax/1000, azR/1000, 0])\n",
    "# plt.imshow(np.angle(focused_rd[6000:7350, 7100:7500]), origin='lower', cmap='hsv', interpolation='None')\n",
    "# plt.imshow(np.angle(range_corrected_rd[6000:7350, 7100:7500]), origin='lower', cmap='hsv', interpolation='None')\n",
    "plt.title('C-Band Grand Mesa: March 27, 2024')\n",
    "plt.xlabel('Slant Range [m]')\n",
    "plt.ylabel('Along Track [m]')\n",
    "plt.colorbar(label='[dB - Uncal]')\n",
    "\n",
    "# image_file = f'CBand_NH_Test2.png'\n",
    "# cwd = os.getcwd()\n",
    "\n",
    "# plt.savefig(os.path.join(cwd, image_file), dpi=1000, bbox_inches='tight', pad_inches=0.25, transparent=False)\n",
    "\n",
    "\n",
    "\n",
    "plt.show()"
   ]
  },
  {
   "cell_type": "code",
   "execution_count": null,
   "metadata": {},
   "outputs": [],
   "source": [
    "# (az*over/(fs*8)) * (3e8 /2)\n",
    "# (50/fs) *(3e8 /2)\n",
    "0.886*2*72/0.8"
   ]
  },
  {
   "cell_type": "code",
   "execution_count": null,
   "metadata": {},
   "outputs": [],
   "source": [
    "az = 600\n",
    "r = 100\n",
    "\n",
    "cr = focused[6400:6400+az, 9225:9225+r]\n",
    "cr_fft2 = np.fft.fft2(cr)\n",
    "\n",
    "over = 4\n",
    "\n",
    "cr_over = np.fft.ifft2(cr_fft2, s=[over*az, over*r])\n",
    "\n",
    "\n",
    "\n",
    "plt.figure()\n",
    "\n",
    "plt.imshow(20*np.log10(abs(cr_over)), interpolation='none')\n",
    "\n",
    "# plt.ylim(-10, 0)\n",
    "\n",
    "plt.show()"
   ]
  },
  {
   "cell_type": "code",
   "execution_count": null,
   "metadata": {},
   "outputs": [],
   "source": [
    "600 *72 * 0.001"
   ]
  },
  {
   "cell_type": "code",
   "execution_count": null,
   "metadata": {},
   "outputs": [],
   "source": [
    "200/(fs*over) * 3e8 /2"
   ]
  },
  {
   "cell_type": "code",
   "execution_count": null,
   "metadata": {},
   "outputs": [],
   "source": [
    "r_m = np.linspace(-15.3/2 +1.4, 15.3/2 +1.4, r*over)\n",
    "az_m = np.linspace(-43.2/2, 43.2/2, az*over)\n",
    "\n",
    "fig, ax = plt.subplots(figsize=[8, 4], nrows=1, ncols=2, sharey=True)\n",
    "\n",
    "# ax[0].plot(20*np.log10(abs(cr_over[1630, 0:300])) - 42.5, color='k')\n",
    "ax[0].plot(r_m, 20*np.log10(abs(cr_over[1000, :])) - 87.5, color='k')\n",
    "\n",
    "ax[0].set_title('Corner Reflector Range Profile')\n",
    "ax[0].set_xlabel('[m]')\n",
    "ax[0].set_ylabel('Normalized Magnitude [dB]')\n",
    "ax[0].set_xlim(-6, 6)\n",
    "ax[0].set_ylim(-40, 0)\n",
    "ax[0].grid()\n",
    "\n",
    "ax[1].set_title('Corner Reflector Azimuth Profile')\n",
    "\n",
    "ax[1].plot(az_m, 20*np.log10(fun.rolling_avg(abs(cr_over[:, 210]), 10)) - 87.15, color='k')\n",
    "ax[1].set_xlim(-20, 20)\n",
    "\n",
    "ax[1].set_xlabel('[m]')\n",
    "ax[1].grid()\n",
    "\n",
    "\n",
    "\n",
    "\n",
    "\n",
    "\n",
    "\n",
    "# image_file = f'CR_impulse.pdf'\n",
    "\n",
    "\n",
    "# plt.savefig(os.path.join(r'C:\\Users\\epsutherland\\Desktop\\ForThesis\\GM_CReflectors', image_file), dpi=1000, bbox_inches='tight', pad_inches=0.25, transparent=False)\n",
    "\n",
    "plt.show()"
   ]
  },
  {
   "cell_type": "code",
   "execution_count": null,
   "metadata": {},
   "outputs": [],
   "source": [
    "fig, ax = plt.subplots(figsize=[8, 4], nrows=1, ncols=2, sharey=True)\n",
    "\n",
    "# ax[0].plot(20*np.log10(abs(cr_over[1630, 0:300])) - 42.5, color='k')\n",
    "ax[0].plot(r_m, np.angle(cr_over[1000, :]), color='k')\n",
    "\n",
    "ax[0].set_title('Corner Reflector Range Profile')\n",
    "ax[0].set_xlabel('[m]')\n",
    "ax[0].set_ylabel('Normalized Magnitude [dB]')\n",
    "ax[0].set_xlim(-6, 6)\n",
    "ax[0].set_ylim(-np.pi, np.pi)\n",
    "ax[0].grid()\n",
    "\n",
    "ax[1].set_title('Corner Reflector Azimuth Profile')\n",
    "\n",
    "ax[1].plot(az_m, np.angle(cr_over[:, 210]), 10, color='k')\n",
    "ax[1].set_xlim(-20, 20)\n",
    "\n",
    "ax[1].set_xlabel('[m]')\n",
    "ax[1].grid()\n",
    "\n",
    "\n",
    "\n",
    "\n",
    "\n",
    "\n",
    "\n",
    "# image_file = f'CR_impulse.pdf'\n",
    "\n",
    "\n",
    "# plt.savefig(os.path.join(r'C:\\Users\\epsutherland\\Desktop\\ForThesis\\GM_CReflectors', image_file), dpi=1000, bbox_inches='tight', pad_inches=0.25, transparent=False)\n",
    "\n",
    "plt.show()"
   ]
  },
  {
   "cell_type": "code",
   "execution_count": null,
   "metadata": {},
   "outputs": [],
   "source": [
    "# Create first plot with y1\n",
    "fig, ax1 = plt.subplots()\n",
    "\n",
    "\n",
    "ax1.set_xlabel('X axis')\n",
    "ax1.set_ylabel('Y1')\n",
    "ax1.plot(np.angle(cr_over[1000:3000, 149]), color='k', alpha=0.1)\n",
    "\n",
    "\n",
    "# Create second plot with y2\n",
    "ax2 = ax1.twinx()\n",
    "color = 'tab:blue'\n",
    "ax2.set_ylabel('Y2')\n",
    "ax2.plot(20*np.log10(abs(cr_over[1000:3000, 149])), color='k')\n",
    "\n",
    "\n",
    "# Adjust y-limits for each plot\n",
    "ax1.set_ylim(-np.pi, np.pi)  # Adjust according to the range of y1\n",
    "ax2.set_ylim(0, 50)  # Adjust according to the range of y2\n",
    "\n",
    "# ax1.set_xlim(0, 600)\n",
    "\n",
    "# plt.grid(linestyle=':', color='k')\n",
    "\n",
    "# Show plot\n",
    "plt.show()"
   ]
  },
  {
   "cell_type": "code",
   "execution_count": null,
   "metadata": {},
   "outputs": [],
   "source": [
    "# plt.figure()\n",
    "\n",
    "# # plt.plot(20*np.log10(corrected2[780:815, 770]))\n",
    "# # plt.plot(20*np.log10(focused_multilook[4172, 9150:9350]))\n",
    "# # plt.plot(np.angle(focused_multilook[4172, 9150:9350]))\n",
    "# # plt.plot(20*np.log10(abs(cr_over[600:1100, 72])))\n",
    "# # plt.plot(np.angle(cr_over[600:1100, 72]))\n",
    "# plt.plot(20*np.log10(abs(cr_over[1630, :])))\n",
    "# plt.plot(np.angle(cr_over[1630, :]))\n",
    "\n",
    "\n",
    "\n",
    "# plt.show()\n",
    "\n",
    "fig, ax1 = plt.subplots()\n",
    "\n",
    "\n",
    "ax1.set_xlabel('X axis')\n",
    "ax1.set_ylabel('Y1')\n",
    "ax1.plot(np.angle(cr_over[1630, :]), color='k', alpha=0.1)\n",
    "\n",
    "\n",
    "# Create second plot with y2\n",
    "ax2 = ax1.twinx()\n",
    "color = 'tab:blue'\n",
    "ax2.set_ylabel('Y2')\n",
    "ax2.plot(20*np.log10(abs(cr_over[1630, :])), color='k')\n",
    "\n",
    "\n",
    "# Adjust y-limits for each plot\n",
    "ax1.set_ylim(-np.pi, np.pi)  # Adjust according to the range of y1\n",
    "ax2.set_ylim(0, 50)  # Adjust according to the range of y2\n",
    "\n",
    "ax1.set_xlim(0, 400)\n",
    "\n",
    "plt.grid(linestyle=':', color='k')\n",
    "\n",
    "# Show plot\n",
    "plt.show()"
   ]
  },
  {
   "cell_type": "code",
   "execution_count": null,
   "metadata": {},
   "outputs": [],
   "source": [
    "outputpath = r'C:\\Users\\epsutherland\\Desktop\\ForThesis\\GM_CReflectors'\n",
    "channel='xxxxxxx'\n",
    "timestamp='GM_CornerReflectors'\n",
    "L=1\n",
    "\n",
    "# focused, range_res, az_res = fun.fix_slc_resolution(focused, vp, prf, fs, L, fh, fl)\n",
    "\n",
    "# fun.write_slc(focused, outputpath, channel, timestamp, start_file, stop_file, vp, H, f0, fs, prf, az_BW, range_res, az_res)\n",
    "# fun.write_doppler_fit(doppler_fit, os.path.join(outputpath, 'GM_CornerReflector_Doppler.dat'))"
   ]
  },
  {
   "cell_type": "code",
   "execution_count": null,
   "metadata": {},
   "outputs": [],
   "source": [
    "# scale = max(abs(focused.flatten()))/2**16"
   ]
  },
  {
   "cell_type": "code",
   "execution_count": null,
   "metadata": {},
   "outputs": [],
   "source": [
    "# fun.write_slc(focused, cwd, 'ch2_20240327T123855', start_file, stop_file, vp, H, f0, fs, prf, az_BW)"
   ]
  },
  {
   "cell_type": "code",
   "execution_count": null,
   "metadata": {},
   "outputs": [],
   "source": [
    "# az_samples, range_samples = focused.shape\n",
    "\n",
    "# ch0 = fun.read_SNOWWI_SLC(r'c:\\Users\\epsutherland\\Downloads\\ToLabPC\\Jupyter Notebook', 'ch0_test.dat', az_samples, range_samples)\n",
    "# ch2 = fun.read_SNOWWI_SLC(r'c:\\Users\\epsutherland\\Downloads\\ToLabPC\\Jupyter Notebook', 'ch2_test.dat', az_samples, range_samples)\n",
    "\n",
    "\n"
   ]
  },
  {
   "cell_type": "code",
   "execution_count": null,
   "metadata": {},
   "outputs": [],
   "source": []
  }
 ],
 "metadata": {
  "kernelspec": {
   "display_name": "Python 3",
   "language": "python",
   "name": "python3"
  },
  "language_info": {
   "codemirror_mode": {
    "name": "ipython",
    "version": 3
   },
   "file_extension": ".py",
   "mimetype": "text/x-python",
   "name": "python",
   "nbconvert_exporter": "python",
   "pygments_lexer": "ipython3",
   "version": "3.11.9"
  }
 },
 "nbformat": 4,
 "nbformat_minor": 2
}
